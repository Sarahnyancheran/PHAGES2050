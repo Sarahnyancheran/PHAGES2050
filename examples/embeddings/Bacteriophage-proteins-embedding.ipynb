{
 "cells": [
  {
   "cell_type": "markdown",
   "metadata": {},
   "source": [
    "## PHAGES2050\n",
    "**Date:** 24.08.2020  \n",
    "**Author:** Pior Tynecki\n",
    "\n",
    "That notebook is a part of examples in the [PHAGES2050](https://github.com/ptynecki/PHAGES2050) repository. The content of it is valid and was tested with 0.0.4 framework version.\n",
    "\n",
    "Two belows examples are presenting the embedding model execution used for protein vectorization. The vectorization is producing 1024 feature space for each protein or for the set of proteins representing single bacteriophage.\n",
    "Depends on your needs you can use fixed-length numeric vectors for:\n",
    "* single protein function prediction,\n",
    "* feature space creation for further Machine Learning classifications,\n",
    "* feature space creation for bacteriophages deeper exploration in 3D;"
   ]
  },
  {
   "cell_type": "markdown",
   "metadata": {},
   "source": [
    "### Import necessary modules"
   ]
  },
  {
   "cell_type": "code",
   "execution_count": 1,
   "metadata": {},
   "outputs": [],
   "source": [
    "import torch\n",
    "import pandas as pd"
   ]
  },
  {
   "cell_type": "code",
   "execution_count": 2,
   "metadata": {},
   "outputs": [],
   "source": [
    "from phages2050.embeddings.proteins.bert import BertModelManager, BertEmbedding"
   ]
  },
  {
   "cell_type": "markdown",
   "metadata": {},
   "source": [
    "### Download pre-trained proteins model\n",
    "Before you start vectorizing protein sequence or set of proteins you have to download pre-trained model dedicated for proteins embedding.  \n",
    "\n",
    "This step have to be done once and doesn't have to be repeated on single environment."
   ]
  },
  {
   "cell_type": "code",
   "execution_count": 3,
   "metadata": {},
   "outputs": [],
   "source": [
    "bert_model_manager = BertModelManager()"
   ]
  },
  {
   "cell_type": "code",
   "execution_count": 4,
   "metadata": {},
   "outputs": [
    {
     "data": {
      "text/plain": [
       "'bert_model/bert/'"
      ]
     },
     "execution_count": 4,
     "metadata": {},
     "output_type": "execute_result"
    }
   ],
   "source": [
    "# It can take a while and depends on the Internet speed\n",
    "# Be aware that model size is 1.4 GB\n",
    "bert_model_dir = bert_model_manager.download_model()\n",
    "\n",
    "# If succeed expect pre-trained model directory path\n",
    "bert_model_dir"
   ]
  },
  {
   "cell_type": "markdown",
   "metadata": {},
   "source": [
    "### Preapre DataFrame\n",
    "\n",
    "PHAGES2050 standard I/O data format is a pandas DataFrame.\n",
    "\n",
    "Put your protein sequence into DataFrame with their known function name or left it as \"Unknown\" value."
   ]
  },
  {
   "cell_type": "code",
   "execution_count": 5,
   "metadata": {},
   "outputs": [],
   "source": [
    "# Non-fixed length protein string made up of 20 different amino acids\n",
    "protein_sequence = \"MSMYTTAQLLAANEQKFKFDPLFLRLFFRESYPFTTEKVYLSQIPGLVNMALYVSPIVSGEVIRSRGGSTSEFTPGYVKPKHEVNP\" \\\n",
    "                   \"QMTLRRLPDEDPQNLADPAYRRRRIIMQNMRDEELAIAQVEEMQAVSAVLKGKYTMTGEAFDPVEVDMGRSEENNITQSGGTEWSK\" \\\n",
    "                   \"RDKSTYDPTDDIEAYALNASGVVNIIVFDPKGWALFRSFKAVKEKLDTRRGSNSELETAVKDLGKAVSYKGMYGDVAIVVYSGQYV\" \\\n",
    "                   \"ENGVKKNFLPDNTMVLGNTQARGLRTYGCIQDADAQREGINASARYPKNWVTTGDPAREFTMIQSAPLMLLADPDEFVSVQLA\"\n",
    "\n",
    "# Protein function name\n",
    "protein_class = \"Unknown\"\n",
    "\n",
    "# Group it as list of two elements\n",
    "protein_data = [\n",
    "    protein_sequence,\n",
    "    protein_class\n",
    "]"
   ]
  },
  {
   "cell_type": "code",
   "execution_count": 6,
   "metadata": {},
   "outputs": [
    {
     "data": {
      "text/html": [
       "<div>\n",
       "<style scoped>\n",
       "    .dataframe tbody tr th:only-of-type {\n",
       "        vertical-align: middle;\n",
       "    }\n",
       "\n",
       "    .dataframe tbody tr th {\n",
       "        vertical-align: top;\n",
       "    }\n",
       "\n",
       "    .dataframe thead th {\n",
       "        text-align: right;\n",
       "    }\n",
       "</style>\n",
       "<table border=\"1\" class=\"dataframe\">\n",
       "  <thead>\n",
       "    <tr style=\"text-align: right;\">\n",
       "      <th></th>\n",
       "      <th>sequence</th>\n",
       "      <th>class</th>\n",
       "    </tr>\n",
       "  </thead>\n",
       "  <tbody>\n",
       "    <tr>\n",
       "      <th>0</th>\n",
       "      <td>MSMYTTAQLLAANEQKFKFDPLFLRLFFRESYPFTTEKVYLSQIPG...</td>\n",
       "      <td>Unknown</td>\n",
       "    </tr>\n",
       "  </tbody>\n",
       "</table>\n",
       "</div>"
      ],
      "text/plain": [
       "                                            sequence    class\n",
       "0  MSMYTTAQLLAANEQKFKFDPLFLRLFFRESYPFTTEKVYLSQIPG...  Unknown"
      ]
     },
     "execution_count": 6,
     "metadata": {},
     "output_type": "execute_result"
    }
   ],
   "source": [
    "# Create temporary DataFrame\n",
    "df = pd.DataFrame(\n",
    "    data=[protein_data],\n",
    "    columns=['sequence', 'class']\n",
    ")\n",
    "df.head()"
   ]
  },
  {
   "cell_type": "markdown",
   "metadata": {},
   "source": [
    "### Check CUDA and GPU support\n",
    "If you have CUDA and GPU support then each of the calculation below will be executed much more faster than with CPU."
   ]
  },
  {
   "cell_type": "code",
   "execution_count": 7,
   "metadata": {},
   "outputs": [
    {
     "data": {
      "text/plain": [
       "True"
      ]
     },
     "execution_count": 7,
     "metadata": {},
     "output_type": "execute_result"
    }
   ],
   "source": [
    "# Check if you have CUDA support\n",
    "torch.cuda.is_available()"
   ]
  },
  {
   "cell_type": "code",
   "execution_count": 8,
   "metadata": {},
   "outputs": [
    {
     "data": {
      "text/plain": [
       "{0: 'TITAN V', 1: 'GeForce RTX 2070'}"
      ]
     },
     "execution_count": 8,
     "metadata": {},
     "output_type": "execute_result"
    }
   ],
   "source": [
    "# Check which GPU has expected ID\n",
    "gpu_device_count = torch.cuda.device_count()\n",
    "{gpu_id: torch.cuda.get_device_name(gpu_id) for gpu_id in range(gpu_device_count)}"
   ]
  },
  {
   "cell_type": "markdown",
   "metadata": {},
   "source": [
    "### Single protein vectorization - example 1\n",
    "This example shows how to vectorize single protein sequence into 1024 numeric vector space."
   ]
  },
  {
   "cell_type": "code",
   "execution_count": 9,
   "metadata": {},
   "outputs": [],
   "source": [
    "bert_embedding = BertEmbedding(\n",
    "    model_dir=bert_model_dir,\n",
    "    # Pass expected GPU ID\n",
    "    cuda_device=0\n",
    ")"
   ]
  },
  {
   "cell_type": "code",
   "execution_count": 10,
   "metadata": {},
   "outputs": [],
   "source": [
    "embbeding_result = bert_embedding.transform(df=df)"
   ]
  },
  {
   "cell_type": "code",
   "execution_count": 11,
   "metadata": {},
   "outputs": [
    {
     "data": {
      "text/html": [
       "<div>\n",
       "<style scoped>\n",
       "    .dataframe tbody tr th:only-of-type {\n",
       "        vertical-align: middle;\n",
       "    }\n",
       "\n",
       "    .dataframe tbody tr th {\n",
       "        vertical-align: top;\n",
       "    }\n",
       "\n",
       "    .dataframe thead th {\n",
       "        text-align: right;\n",
       "    }\n",
       "</style>\n",
       "<table border=\"1\" class=\"dataframe\">\n",
       "  <thead>\n",
       "    <tr style=\"text-align: right;\">\n",
       "      <th></th>\n",
       "      <th>BERT_0</th>\n",
       "      <th>BERT_1</th>\n",
       "      <th>BERT_2</th>\n",
       "      <th>BERT_3</th>\n",
       "      <th>BERT_4</th>\n",
       "      <th>BERT_5</th>\n",
       "      <th>BERT_6</th>\n",
       "      <th>BERT_7</th>\n",
       "      <th>BERT_8</th>\n",
       "      <th>BERT_9</th>\n",
       "      <th>...</th>\n",
       "      <th>BERT_1015</th>\n",
       "      <th>BERT_1016</th>\n",
       "      <th>BERT_1017</th>\n",
       "      <th>BERT_1018</th>\n",
       "      <th>BERT_1019</th>\n",
       "      <th>BERT_1020</th>\n",
       "      <th>BERT_1021</th>\n",
       "      <th>BERT_1022</th>\n",
       "      <th>BERT_1023</th>\n",
       "      <th>class</th>\n",
       "    </tr>\n",
       "  </thead>\n",
       "  <tbody>\n",
       "    <tr>\n",
       "      <th>0</th>\n",
       "      <td>-0.00758</td>\n",
       "      <td>-0.008452</td>\n",
       "      <td>-0.013748</td>\n",
       "      <td>0.022192</td>\n",
       "      <td>0.072757</td>\n",
       "      <td>-0.020868</td>\n",
       "      <td>0.002841</td>\n",
       "      <td>0.030178</td>\n",
       "      <td>-0.028072</td>\n",
       "      <td>0.038762</td>\n",
       "      <td>...</td>\n",
       "      <td>-0.030086</td>\n",
       "      <td>0.005809</td>\n",
       "      <td>0.002216</td>\n",
       "      <td>-0.039288</td>\n",
       "      <td>0.008029</td>\n",
       "      <td>0.003874</td>\n",
       "      <td>0.023775</td>\n",
       "      <td>-0.002863</td>\n",
       "      <td>0.01145</td>\n",
       "      <td>Unknown</td>\n",
       "    </tr>\n",
       "  </tbody>\n",
       "</table>\n",
       "<p>1 rows × 1025 columns</p>\n",
       "</div>"
      ],
      "text/plain": [
       "    BERT_0    BERT_1    BERT_2    BERT_3    BERT_4    BERT_5    BERT_6  \\\n",
       "0 -0.00758 -0.008452 -0.013748  0.022192  0.072757 -0.020868  0.002841   \n",
       "\n",
       "     BERT_7    BERT_8    BERT_9  ...  BERT_1015  BERT_1016  BERT_1017  \\\n",
       "0  0.030178 -0.028072  0.038762  ...  -0.030086   0.005809   0.002216   \n",
       "\n",
       "   BERT_1018  BERT_1019  BERT_1020  BERT_1021  BERT_1022  BERT_1023    class  \n",
       "0  -0.039288   0.008029   0.003874   0.023775  -0.002863    0.01145  Unknown  \n",
       "\n",
       "[1 rows x 1025 columns]"
      ]
     },
     "execution_count": 11,
     "metadata": {},
     "output_type": "execute_result"
    }
   ],
   "source": [
    "embbeding_result.head()"
   ]
  },
  {
   "cell_type": "markdown",
   "metadata": {},
   "source": [
    "### Bacteriophage averaged vectorization - example 2\n",
    "This example shows how to vectorize set of bacteriophage proteins sequences into 1024 (averaged) numeric vector space."
   ]
  },
  {
   "cell_type": "code",
   "execution_count": 12,
   "metadata": {},
   "outputs": [],
   "source": [
    "# Non-fixed length protein string made up of 20 different amino acids\n",
    "protein_sequence_1 = \"MSMYTTAQLLAANEQKFKFDPLFLRLFFRESYPFTTEKVYLSQIPGLVNMALYVSPIVSGEVIRSRGGSTSEFTPGYVKPKHEVNP\" \\\n",
    "                     \"QMTLRRLPDEDPQNLADPAYRRRRIIMQNMRDEELAIAQVEEMQAVSAVLKGKYTMTGEAFDPVEVDMGRSEENNITQSGGTEWSK\" \\\n",
    "                     \"RDKSTYDPTDDIEAYALNASGVVNIIVFDPKGWALFRSFKAVKEKLDTRRGSNSELETAVKDLGKAVSYKGMYGDVAIVVYSGQYV\" \\\n",
    "                     \"ENGVKKNFLPDNTMVLGNTQARGLRTYGCIQDADAQREGINASARYPKNWVTTGDPAREFTMIQSAPLMLLADPDEFVSVQLA\"\n",
    "\n",
    "protein_id_1 = \"NP_040587.1\"\n",
    "\n",
    "protein_sequence_2 = \"MNLKEQRKAKMAEALNFKARIKAGDALSDDEVKALTALLGDIESLDAQIAKAEENAKVLASVAQLPDADSEKPTGTDGGAKASSLG\" \\\n",
    "                     \"AHFIKELKASGRSLKDPGSFVSTEFKAATDTQSVGSAGGAFGPLITDVDRTPVIPFQRPLAVADLMASGSVSGNAITYPVFGALEG\" \\\n",
    "                     \"TSTFVAEGAAKPQLHVANPEWKTDALGEIAAWFKVTDDMAEDIPYLVSEIQSTAIYDLALREELALLSGDGSASSITGILNRPGVQ\" \\\n",
    "                     \"TIAKGTDSDPDRIFSAISKVQEVTGFVADGIVINPADYQAIRLSKDANGQYFGGGFFSGQYGTGGIVQNPPLWGLKTVVTSSIAQG\" \\\n",
    "                     \"TTVVGPFKAAAKVFRKGGLRVESTNSHADDFTNDKITIRIRERLGLQVKYPSAFVKVALGTAGK\"\n",
    "\n",
    "\n",
    "protein_id_2 = \"YP_009596870.1\"\n",
    "\n",
    "# Group it as list of lists with two elements each\n",
    "bacteriophage_data = [\n",
    "    [protein_sequence_1, protein_id_1],\n",
    "    [protein_sequence_2, protein_id_2]\n",
    "]"
   ]
  },
  {
   "cell_type": "code",
   "execution_count": 13,
   "metadata": {},
   "outputs": [
    {
     "data": {
      "text/html": [
       "<div>\n",
       "<style scoped>\n",
       "    .dataframe tbody tr th:only-of-type {\n",
       "        vertical-align: middle;\n",
       "    }\n",
       "\n",
       "    .dataframe tbody tr th {\n",
       "        vertical-align: top;\n",
       "    }\n",
       "\n",
       "    .dataframe thead th {\n",
       "        text-align: right;\n",
       "    }\n",
       "</style>\n",
       "<table border=\"1\" class=\"dataframe\">\n",
       "  <thead>\n",
       "    <tr style=\"text-align: right;\">\n",
       "      <th></th>\n",
       "      <th>sequence</th>\n",
       "      <th>name</th>\n",
       "    </tr>\n",
       "  </thead>\n",
       "  <tbody>\n",
       "    <tr>\n",
       "      <th>0</th>\n",
       "      <td>MSMYTTAQLLAANEQKFKFDPLFLRLFFRESYPFTTEKVYLSQIPG...</td>\n",
       "      <td>NP_040587.1</td>\n",
       "    </tr>\n",
       "    <tr>\n",
       "      <th>1</th>\n",
       "      <td>MNLKEQRKAKMAEALNFKARIKAGDALSDDEVKALTALLGDIESLD...</td>\n",
       "      <td>YP_009596870.1</td>\n",
       "    </tr>\n",
       "  </tbody>\n",
       "</table>\n",
       "</div>"
      ],
      "text/plain": [
       "                                            sequence            name\n",
       "0  MSMYTTAQLLAANEQKFKFDPLFLRLFFRESYPFTTEKVYLSQIPG...     NP_040587.1\n",
       "1  MNLKEQRKAKMAEALNFKARIKAGDALSDDEVKALTALLGDIESLD...  YP_009596870.1"
      ]
     },
     "execution_count": 13,
     "metadata": {},
     "output_type": "execute_result"
    }
   ],
   "source": [
    "# Create temporary DataFrame\n",
    "df_phage = pd.DataFrame(\n",
    "    data=bacteriophage_data,\n",
    "    columns=['sequence', 'name']\n",
    ")\n",
    "df_phage.head()"
   ]
  },
  {
   "cell_type": "code",
   "execution_count": 16,
   "metadata": {},
   "outputs": [
    {
     "name": "stdout",
     "output_type": "stream",
     "text": [
      "[DEBUG] Protein vectors are averaging to form a bacteriophage\n"
     ]
    }
   ],
   "source": [
    "embbeding_result = bert_embedding.transform(df=df_phage, bacteriophage_level=True)"
   ]
  },
  {
   "cell_type": "code",
   "execution_count": 15,
   "metadata": {},
   "outputs": [
    {
     "data": {
      "text/html": [
       "<div>\n",
       "<style scoped>\n",
       "    .dataframe tbody tr th:only-of-type {\n",
       "        vertical-align: middle;\n",
       "    }\n",
       "\n",
       "    .dataframe tbody tr th {\n",
       "        vertical-align: top;\n",
       "    }\n",
       "\n",
       "    .dataframe thead th {\n",
       "        text-align: right;\n",
       "    }\n",
       "</style>\n",
       "<table border=\"1\" class=\"dataframe\">\n",
       "  <thead>\n",
       "    <tr style=\"text-align: right;\">\n",
       "      <th></th>\n",
       "      <th>BERT_0</th>\n",
       "      <th>BERT_1</th>\n",
       "      <th>BERT_2</th>\n",
       "      <th>BERT_3</th>\n",
       "      <th>BERT_4</th>\n",
       "      <th>BERT_5</th>\n",
       "      <th>BERT_6</th>\n",
       "      <th>BERT_7</th>\n",
       "      <th>BERT_8</th>\n",
       "      <th>BERT_9</th>\n",
       "      <th>...</th>\n",
       "      <th>BERT_1015</th>\n",
       "      <th>BERT_1016</th>\n",
       "      <th>BERT_1017</th>\n",
       "      <th>BERT_1018</th>\n",
       "      <th>BERT_1019</th>\n",
       "      <th>BERT_1020</th>\n",
       "      <th>BERT_1021</th>\n",
       "      <th>BERT_1022</th>\n",
       "      <th>BERT_1023</th>\n",
       "      <th>name</th>\n",
       "    </tr>\n",
       "  </thead>\n",
       "  <tbody>\n",
       "    <tr>\n",
       "      <th>0</th>\n",
       "      <td>-0.006764</td>\n",
       "      <td>-0.01259</td>\n",
       "      <td>-0.014861</td>\n",
       "      <td>0.016062</td>\n",
       "      <td>0.06595</td>\n",
       "      <td>-0.019135</td>\n",
       "      <td>0.006641</td>\n",
       "      <td>0.01201</td>\n",
       "      <td>-0.030033</td>\n",
       "      <td>0.024458</td>\n",
       "      <td>...</td>\n",
       "      <td>-0.02204</td>\n",
       "      <td>0.005218</td>\n",
       "      <td>-0.00583</td>\n",
       "      <td>-0.010436</td>\n",
       "      <td>0.005666</td>\n",
       "      <td>0.011336</td>\n",
       "      <td>0.019985</td>\n",
       "      <td>-0.011375</td>\n",
       "      <td>0.024778</td>\n",
       "      <td>NP_040587.1</td>\n",
       "    </tr>\n",
       "  </tbody>\n",
       "</table>\n",
       "<p>1 rows × 1025 columns</p>\n",
       "</div>"
      ],
      "text/plain": [
       "     BERT_0   BERT_1    BERT_2    BERT_3   BERT_4    BERT_5    BERT_6  \\\n",
       "0 -0.006764 -0.01259 -0.014861  0.016062  0.06595 -0.019135  0.006641   \n",
       "\n",
       "    BERT_7    BERT_8    BERT_9  ...  BERT_1015  BERT_1016  BERT_1017  \\\n",
       "0  0.01201 -0.030033  0.024458  ...   -0.02204   0.005218   -0.00583   \n",
       "\n",
       "   BERT_1018  BERT_1019  BERT_1020  BERT_1021  BERT_1022  BERT_1023  \\\n",
       "0  -0.010436   0.005666   0.011336   0.019985  -0.011375   0.024778   \n",
       "\n",
       "          name  \n",
       "0  NP_040587.1  \n",
       "\n",
       "[1 rows x 1025 columns]"
      ]
     },
     "execution_count": 15,
     "metadata": {},
     "output_type": "execute_result"
    }
   ],
   "source": [
    "embbeding_result.head()"
   ]
  },
  {
   "cell_type": "code",
   "execution_count": null,
   "metadata": {},
   "outputs": [],
   "source": []
  }
 ],
 "metadata": {
  "kernelspec": {
   "display_name": "Python 3",
   "language": "python",
   "name": "python3"
  },
  "language_info": {
   "codemirror_mode": {
    "name": "ipython",
    "version": 3
   },
   "file_extension": ".py",
   "mimetype": "text/x-python",
   "name": "python",
   "nbconvert_exporter": "python",
   "pygments_lexer": "ipython3",
   "version": "3.6.9"
  }
 },
 "nbformat": 4,
 "nbformat_minor": 4
}
